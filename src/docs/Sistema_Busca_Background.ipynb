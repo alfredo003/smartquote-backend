{
 "cells": [
  {
   "cell_type": "markdown",
   "id": "a49b78c7",
   "metadata": {},
   "source": [
    "# Sistema de Busca em Background - SmartQuote\n",
    "\n",
    "## Resolução de Problemas de Comunicação Worker-Parent\n",
    "\n",
    "Este notebook documenta a implementação e correção do sistema de busca em background que resolve o problema de bloqueio do servidor durante pesquisas longas (120+ segundos).\n",
    "\n",
    "### Problema Original\n",
    "- Requests de busca bloqueavam o servidor por 2+ minutos\n",
    "- Necessidade de executar buscas em paralelo sem bloquear o thread principal\n",
    "- Implementação de arquitetura com processes filhos para background jobs"
   ]
  },
  {
   "cell_type": "markdown",
   "id": "6447ecdb",
   "metadata": {},
   "source": [
    "## 1. Setting Up the Environment\n",
    "\n",
    "### Módulos Node.js para Worker Management\n",
    "\n",
    "O sistema utiliza os seguintes módulos principais:"
   ]
  },
  {
   "cell_type": "code",
   "execution_count": null,
   "id": "d401e7c2",
   "metadata": {
    "vscode": {
     "languageId": "javascript"
    }
   },
   "outputs": [],
   "source": [
    "// JobManager.ts - Gerenciamento de processes filhos\n",
    "import { fork, ChildProcess, spawn } from 'child_process';\n",
    "import { v4 as uuidv4 } from 'uuid';\n",
    "import path from 'path';\n",
    "\n",
    "// Worker Process - buscaWorker.ts\n",
    "// Executa a busca em processo separado\n",
    "// Comunica progresso via stdout/stderr\n",
    "\n",
    "// Controller - BuscaController.ts\n",
    "// Endpoints para:\n",
    "// - POST /background - Inicia job e retorna imediatamente\n",
    "// - GET /job/:id - Status do job\n",
    "// - GET /jobs - Lista todos os jobs"
   ]
  },
  {
   "cell_type": "markdown",
   "id": "1ad1188e",
   "metadata": {},
   "source": [
    "## 2. Identifying JSON Parsing Errors\n",
    "\n",
    "### Problemas Identificados\n",
    "\n",
    "Os erros de parsing JSON ocorreram devido a:\n",
    "\n",
    "1. **Mistura de logs e JSON**: Worker enviava logs + mensagens JSON no mesmo stream\n",
    "2. **Caracteres especiais**: Emojis e caracteres unicode corrompiam o JSON\n",
    "3. **Mensagens do dotenv**: Logs automáticos do dotenv misturados com JSON"
   ]
  },
  {
   "cell_type": "code",
   "execution_count": null,
   "id": "71b8df23",
   "metadata": {
    "vscode": {
     "languageId": "javascript"
    }
   },
   "outputs": [],
   "source": [
    "// ERRO ORIGINAL - Mixed output\n",
    "// stdout continha:\n",
    "// \"[dotenv@17.2.1] injecting env...\"\n",
    "// \"🔧 Worker iniciado...\"\n",
    "// \"{\\\"progresso\\\": {\\\"etapa\\\": \\\"busca\\\"}}\"\n",
    "\n",
    "// Resultado: JSON.parse() falhava nos logs não-JSON\n",
    "\n",
    "// SOLUÇÃO - Separação de streams\n",
    "function enviarMensagem(message) {\n",
    "  // Prefixo especial para identificar JSON válido\n",
    "  console.log('WORKER_MSG:' + JSON.stringify(message));\n",
    "}\n",
    "\n",
    "function log(message) {\n",
    "  // Logs via stderr para não interferir\n",
    "  console.error(`[WORKER] ${message}`);\n",
    "}"
   ]
  },
  {
   "cell_type": "markdown",
   "id": "f9c3bbcf",
   "metadata": {},
   "source": [
    "## 3. Analyzing Worker Communication Issues\n",
    "\n",
    "### Arquitetura Original vs Corrigida\n",
    "\n",
    "**Problema**: `fork()` com TypeScript em desenvolvimento não funcionava corretamente\n",
    "\n",
    "**Solução**: `spawn()` com `ts-node` para execução direta de TypeScript"
   ]
  },
  {
   "cell_type": "code",
   "execution_count": null,
   "id": "01eec664",
   "metadata": {
    "vscode": {
     "languageId": "javascript"
    }
   },
   "outputs": [],
   "source": [
    "// JobManager.ts - Solução final\n",
    "private executarJob(jobId: string): void {\n",
    "  const workerPath = path.join(__dirname, '../workers/buscaWorker.ts');\n",
    "  \n",
    "  // Usar spawn com ts-node para executar TypeScript diretamente\n",
    "  const childProcess = spawn('npx', ['ts-node', workerPath], {\n",
    "    stdio: ['pipe', 'pipe', 'pipe', 'ipc'],\n",
    "    cwd: process.cwd()\n",
    "  });\n",
    "  \n",
    "  // Enviar job data via stdin\n",
    "  childProcess.stdin?.write(JSON.stringify(jobData) + '\\n');\n",
    "  \n",
    "  // Escutar apenas mensagens com prefixo WORKER_MSG:\n",
    "  childProcess.stdout?.on('data', (data) => {\n",
    "    const lines = data.toString().trim().split('\\n');\n",
    "    lines.forEach((line) => {\n",
    "      if (line.startsWith('WORKER_MSG:')) {\n",
    "        const jsonStr = line.substring('WORKER_MSG:'.length);\n",
    "        const message = JSON.parse(jsonStr);\n",
    "        this.processarMensagemDoFilho(jobId, message);\n",
    "      }\n",
    "    });\n",
    "  });\n",
    "}"
   ]
  },
  {
   "cell_type": "markdown",
   "id": "221a071c",
   "metadata": {},
   "source": [
    "## 4. Implementing Message Validation\n",
    "\n",
    "### Sistema de Prefixos para Validação\n",
    "\n",
    "Implementação de protocolo simples para garantir que apenas JSON válido seja processado:"
   ]
  },
  {
   "cell_type": "code",
   "execution_count": null,
   "id": "422f96b9",
   "metadata": {
    "vscode": {
     "languageId": "javascript"
    }
   },
   "outputs": [],
   "source": [
    "// buscaWorker.ts - Envio de mensagens\n",
    "interface ProgressMessage {\n",
    "  progresso: {\n",
    "    etapa: 'busca' | 'salvamento';\n",
    "    fornecedores?: number;\n",
    "    produtos?: number;\n",
    "    detalhes?: string;\n",
    "  };\n",
    "}\n",
    "\n",
    "interface ResultMessage {\n",
    "  status: 'sucesso' | 'erro';\n",
    "  produtos?: any[];\n",
    "  salvamento?: {\n",
    "    salvos: number;\n",
    "    erros: number;\n",
    "    detalhes: any[];\n",
    "  };\n",
    "  tempoExecucao?: number;\n",
    "  erro?: string;\n",
    "}\n",
    "\n",
    "// Validação no envio\n",
    "function enviarMensagem(message: ProgressMessage | ResultMessage) {\n",
    "  // Validar estrutura antes de enviar\n",
    "  if (!message || typeof message !== 'object') {\n",
    "    log('Erro: Mensagem inválida');\n",
    "    return;\n",
    "  }\n",
    "  \n",
    "  console.log('WORKER_MSG:' + JSON.stringify(message));\n",
    "}"
   ]
  },
  {
   "cell_type": "markdown",
   "id": "99b80cad",
   "metadata": {},
   "source": [
    "## 5. Creating Error Handling Solutions\n",
    "\n",
    "### Correção do Erro de Database (Preço NULL)\n",
    "\n",
    "Outro problema identificado foi produtos sem preço causando constraint violations:"
   ]
  },
  {
   "cell_type": "code",
   "execution_count": null,
   "id": "20df2205",
   "metadata": {
    "vscode": {
     "languageId": "javascript"
    }
   },
   "outputs": [],
   "source": [
    "// ProdutoService.ts - Correção da conversão de preço\n",
    "private converterPrecoParaCentavos(precoString: string | null | undefined): number {\n",
    "  try {\n",
    "    // Se preço é null, undefined ou string vazia, retorna 0\n",
    "    if (!precoString || precoString.trim() === '') {\n",
    "      console.warn('Preço vazio ou nulo, usando 0');\n",
    "      return 0;\n",
    "    }\n",
    "    \n",
    "    // Remove símbolos de moeda e espaços\n",
    "    const numeroLimpo = precoString.replace(/[^\\d.,]/g, '');\n",
    "    \n",
    "    if (!numeroLimpo) {\n",
    "      console.warn('Preço sem números válidos:', precoString);\n",
    "      return 0;\n",
    "    }\n",
    "    \n",
    "    // Processamento de formato brasileiro vs americano\n",
    "    // ... lógica de conversão ...\n",
    "    \n",
    "    // Validar se é um número válido\n",
    "    if (isNaN(resultado)) {\n",
    "      console.warn('Resultado de conversão inválido:', precoString);\n",
    "      return 0;\n",
    "    }\n",
    "    \n",
    "    return resultado;\n",
    "  } catch (error) {\n",
    "    console.warn('Erro ao converter preço:', precoString, error);\n",
    "    return 0; // preço padrão em caso de erro\n",
    "  }\n",
    "}"
   ]
  },
  {
   "cell_type": "markdown",
   "id": "6e5a3c5e",
   "metadata": {},
   "source": [
    "## 6. Testing Message Formatting\n",
    "\n",
    "### Teste End-to-End do Sistema\n",
    "\n",
    "Script de teste criado para validar todo o fluxo:"
   ]
  },
  {
   "cell_type": "code",
   "execution_count": null,
   "id": "2b582138",
   "metadata": {
    "vscode": {
     "languageId": "javascript"
    }
   },
   "outputs": [],
   "source": [
    "// teste-background.js - Teste completo\n",
    "async function testarBuscaBackground() {\n",
    "  const baseUrl = 'http://localhost:2000/api/busca-automatica';\n",
    "  \n",
    "  // 1. Iniciar busca em background\n",
    "  const resposta = await fetch(`${baseUrl}/background`, {\n",
    "    method: 'POST',\n",
    "    headers: { 'Content-Type': 'application/json' },\n",
    "    body: JSON.stringify({ produto: 'notebook' })\n",
    "  });\n",
    "  \n",
    "  const dadosBusca = await resposta.json();\n",
    "  const jobId = dadosBusca.jobId;\n",
    "  \n",
    "  // 2. Monitorar progresso\n",
    "  while (tentativas < maxTentativas) {\n",
    "    const respostaStatus = await fetch(`${baseUrl}/job/${jobId}`);\n",
    "    const job = (await respostaStatus.json()).job;\n",
    "    \n",
    "    console.log(`Status: ${job.status}`);\n",
    "    if (job.progresso) {\n",
    "      console.log(`Etapa: ${job.progresso.etapa}`);\n",
    "      console.log(`Detalhes: ${job.progresso.detalhes}`);\n",
    "    }\n",
    "    \n",
    "    if (job.status === 'concluido' || job.status === 'erro') {\n",
    "      break;\n",
    "    }\n",
    "    \n",
    "    await new Promise(resolve => setTimeout(resolve, 10000));\n",
    "  }\n",
    "}"
   ]
  },
  {
   "cell_type": "markdown",
   "id": "1da55488",
   "metadata": {},
   "source": [
    "## 7. Monitoring and Logging Best Practices\n",
    "\n",
    "### Sistema de Logs Implementado\n",
    "\n",
    "**Separação Clara de Responsabilidades:**\n",
    "\n",
    "1. **stdout**: Apenas mensagens JSON válidas com prefixo `WORKER_MSG:`\n",
    "2. **stderr**: Logs do worker para debugging\n",
    "3. **console.log no main**: Logs do JobManager\n",
    "\n",
    "### Resultados Finais\n",
    "\n",
    "✅ **Problema resolvido**: Requests agora retornam imediatamente (202 Accepted)\n",
    "\n",
    "✅ **Background processing**: Jobs executam em paralelo sem bloquear servidor\n",
    "\n",
    "✅ **Monitoramento**: Sistema de tracking de progresso em tempo real\n",
    "\n",
    "✅ **Error handling**: Tratamento robusto de erros de comunicação e database\n",
    "\n",
    "### Performance\n",
    "\n",
    "- **Antes**: 120+ segundos bloqueando o servidor\n",
    "- **Depois**: Resposta imediata + processamento paralelo\n",
    "- **Throughput**: Múltiplas buscas simultâneas possíveis\n",
    "- **Monitoramento**: Progress tracking granular por etapa"
   ]
  },
  {
   "cell_type": "markdown",
   "id": "a15ffa28",
   "metadata": {},
   "source": [
    "## Endpoints Disponíveis\n",
    "\n",
    "### Background Search API\n",
    "\n",
    "```bash\n",
    "# Iniciar busca em background (retorna imediatamente)\n",
    "POST /api/busca-automatica/background\n",
    "{\n",
    "  \"produto\": \"notebook\"\n",
    "}\n",
    "\n",
    "# Verificar status de um job\n",
    "GET /api/busca-automatica/job/{jobId}\n",
    "\n",
    "# Listar todos os jobs\n",
    "GET /api/busca-automatica/jobs\n",
    "\n",
    "# Cancelar job\n",
    "DELETE /api/busca-automatica/job/{jobId}\n",
    "\n",
    "# Busca síncrona (método original - ainda disponível)\n",
    "POST /api/busca-automatica/\n",
    "```\n",
    "\n",
    "### Response Examples\n",
    "\n",
    "**Background Job Iniciado:**\n",
    "```json\n",
    "{\n",
    "  \"success\": true,\n",
    "  \"message\": \"Busca iniciada em background\",\n",
    "  \"jobId\": \"62205208-157e-40d4-9e75-39c47a5ff4f6\",\n",
    "  \"statusUrl\": \"/api/busca/job/{jobId}\",\n",
    "  \"parametros\": {\n",
    "    \"termo\": \"notebook\",\n",
    "    \"numResultados\": 3,\n",
    "    \"fornecedores\": 2\n",
    "  }\n",
    "}\n",
    "```\n",
    "\n",
    "**Job Status:**\n",
    "```json\n",
    "{\n",
    "  \"success\": true,\n",
    "  \"job\": {\n",
    "    \"id\": \"62205208-157e-40d4-9e75-39c47a5ff4f6\",\n",
    "    \"status\": \"executando\",\n",
    "    \"progresso\": {\n",
    "      \"etapa\": \"busca\",\n",
    "      \"fornecedores\": 2,\n",
    "      \"detalhes\": \"Iniciando busca em 2 fornecedores...\"\n",
    "    }\n",
    "  }\n",
    "}\n",
    "```"
   ]
  }
 ],
 "metadata": {
  "language_info": {
   "name": "python"
  }
 },
 "nbformat": 4,
 "nbformat_minor": 5
}
